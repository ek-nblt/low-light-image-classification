<<<<<<< HEAD
<<<<<<< HEAD

=======
=======
>>>>>>> origin/sbbungcaras_features
{
 "cells": [
  {
   "cell_type": "code",
   "execution_count": 1,
   "id": "4d7a70a5",
   "metadata": {},
   "outputs": [
    {
     "name": "stdout",
     "output_type": "stream",
     "text": [
      "Requirement already satisfied: roboflow in c:\\users\\poy\\appdata\\local\\programs\\python\\python313\\lib\\site-packages (1.1.64)\n",
      "Requirement already satisfied: certifi in c:\\users\\poy\\appdata\\local\\programs\\python\\python313\\lib\\site-packages (from roboflow) (2025.4.26)\n",
      "Requirement already satisfied: idna==3.7 in c:\\users\\poy\\appdata\\local\\programs\\python\\python313\\lib\\site-packages (from roboflow) (3.7)\n",
      "Requirement already satisfied: cycler in c:\\users\\poy\\appdata\\local\\programs\\python\\python313\\lib\\site-packages (from roboflow) (0.12.1)\n",
      "Requirement already satisfied: kiwisolver>=1.3.1 in c:\\users\\poy\\appdata\\local\\programs\\python\\python313\\lib\\site-packages (from roboflow) (1.4.8)\n",
      "Requirement already satisfied: matplotlib in c:\\users\\poy\\appdata\\local\\programs\\python\\python313\\lib\\site-packages (from roboflow) (3.10.3)\n",
      "Requirement already satisfied: numpy>=1.18.5 in c:\\users\\poy\\appdata\\local\\programs\\python\\python313\\lib\\site-packages (from roboflow) (2.2.6)\n",
      "Requirement already satisfied: opencv-python-headless==4.10.0.84 in c:\\users\\poy\\appdata\\local\\programs\\python\\python313\\lib\\site-packages (from roboflow) (4.10.0.84)\n",
      "Requirement already satisfied: Pillow>=7.1.2 in c:\\users\\poy\\appdata\\local\\programs\\python\\python313\\lib\\site-packages (from roboflow) (11.2.1)\n",
      "Requirement already satisfied: pillow-heif>=0.18.0 in c:\\users\\poy\\appdata\\local\\programs\\python\\python313\\lib\\site-packages (from roboflow) (0.22.0)\n",
      "Requirement already satisfied: python-dateutil in c:\\users\\poy\\appdata\\roaming\\python\\python313\\site-packages (from roboflow) (2.9.0.post0)\n",
      "Requirement already satisfied: python-dotenv in c:\\users\\poy\\appdata\\local\\programs\\python\\python313\\lib\\site-packages (from roboflow) (1.1.0)\n",
      "Requirement already satisfied: requests in c:\\users\\poy\\appdata\\local\\programs\\python\\python313\\lib\\site-packages (from roboflow) (2.32.3)\n",
      "Requirement already satisfied: six in c:\\users\\poy\\appdata\\roaming\\python\\python313\\site-packages (from roboflow) (1.17.0)\n",
      "Requirement already satisfied: urllib3>=1.26.6 in c:\\users\\poy\\appdata\\local\\programs\\python\\python313\\lib\\site-packages (from roboflow) (2.4.0)\n",
      "Requirement already satisfied: tqdm>=4.41.0 in c:\\users\\poy\\appdata\\local\\programs\\python\\python313\\lib\\site-packages (from roboflow) (4.67.1)\n",
      "Requirement already satisfied: PyYAML>=5.3.1 in c:\\users\\poy\\appdata\\local\\programs\\python\\python313\\lib\\site-packages (from roboflow) (6.0.2)\n",
      "Requirement already satisfied: requests-toolbelt in c:\\users\\poy\\appdata\\local\\programs\\python\\python313\\lib\\site-packages (from roboflow) (1.0.0)\n",
      "Requirement already satisfied: filetype in c:\\users\\poy\\appdata\\local\\programs\\python\\python313\\lib\\site-packages (from roboflow) (1.2.0)\n",
      "Requirement already satisfied: colorama in c:\\users\\poy\\appdata\\roaming\\python\\python313\\site-packages (from tqdm>=4.41.0->roboflow) (0.4.6)\n",
      "Requirement already satisfied: contourpy>=1.0.1 in c:\\users\\poy\\appdata\\local\\programs\\python\\python313\\lib\\site-packages (from matplotlib->roboflow) (1.3.2)\n",
      "Requirement already satisfied: fonttools>=4.22.0 in c:\\users\\poy\\appdata\\local\\programs\\python\\python313\\lib\\site-packages (from matplotlib->roboflow) (4.58.0)\n",
      "Requirement already satisfied: packaging>=20.0 in c:\\users\\poy\\appdata\\roaming\\python\\python313\\site-packages (from matplotlib->roboflow) (25.0)\n",
      "Requirement already satisfied: pyparsing>=2.3.1 in c:\\users\\poy\\appdata\\local\\programs\\python\\python313\\lib\\site-packages (from matplotlib->roboflow) (3.2.3)\n",
      "Requirement already satisfied: charset-normalizer<4,>=2 in c:\\users\\poy\\appdata\\local\\programs\\python\\python313\\lib\\site-packages (from requests->roboflow) (3.4.2)\n"
     ]
    },
    {
     "name": "stderr",
     "output_type": "stream",
     "text": [
      "\n",
      "[notice] A new release of pip is available: 24.3.1 -> 25.1.1\n",
      "[notice] To update, run: python.exe -m pip install --upgrade pip\n"
     ]
    },
    {
     "name": "stdout",
     "output_type": "stream",
     "text": [
      "^C\n"
     ]
    }
   ],
   "source": [
    "!pip install roboflow\n",
    "!pip install \"ultralytics<=8.3.40\" supervision roboflow\n"
   ]
  },
  {
   "cell_type": "code",
   "execution_count": null,
   "id": "3efc87e4",
   "metadata": {},
   "outputs": [],
   "source": [
    "from ultralytics import YOLO\n",
    "from roboflow import Roboflow\n",
    "import ultralytics\n",
    "ultralytics.checks()"
   ]
  },
  {
   "cell_type": "code",
   "execution_count": null,
   "id": "356d98d4",
   "metadata": {},
   "outputs": [],
   "source": [
    "rf = Roboflow(api_key=\"Fz9ba9nPWZpo2iKM9TBg\")\n",
    "project = rf.workspace(\"datasci-co2\").project(\"lli-cat-detection-co1.2\")\n",
    "version = project.version(1)\n",
    "dataset = version.download(\"yolov11\")\n",
    "                "
   ]
  },
  {
   "cell_type": "code",
   "execution_count": null,
   "id": "f9390c7e",
   "metadata": {},
   "outputs": [],
   "source": [
    "model = YOLO(\"yolo11m.pt\")\n",
    "\n",
    "# Train the model on the dataset for 100 epochs\n",
    "results = model.train(data=\"/content/LLI-Cat-Detection-CO1.2-1/data.yaml\", epochs=100, imgsz=640)\n",
    "\n",
    "# Run inference with the YOLO11n model on a sample image\n",
    "results = model(\"/content/LLI-Cat-Detection-CO1.2-1/test/images/2015_03547_jpg.rf.37f6b0168f5c0f4cd922df58836879e3.jpg\")"
   ]
  },
  {
   "cell_type": "code",
   "execution_count": null,
   "id": "ab79ac86",
   "metadata": {},
   "outputs": [],
   "source": [
    "from IPython.display import Image as IPyImage\n",
    "\n",
    "IPyImage(filename=f'{HOME}/runs/detect/train/confusion_matrix.png', width=600)"
   ]
  },
  {
   "cell_type": "code",
   "execution_count": null,
   "id": "57d99c8c",
   "metadata": {},
   "outputs": [],
   "source": []
  }
 ],
 "metadata": {
  "kernelspec": {
   "display_name": "Python 3",
   "language": "python",
   "name": "python3"
  },
  "language_info": {
   "codemirror_mode": {
    "name": "ipython",
    "version": 3
   },
   "file_extension": ".py",
   "mimetype": "text/x-python",
   "name": "python",
   "nbconvert_exporter": "python",
   "pygments_lexer": "ipython3",
   "version": "3.13.0"
  }
 },
 "nbformat": 4,
 "nbformat_minor": 5
}
<<<<<<< HEAD
>>>>>>> 2e56333 (CO1.2 - Modeling - Part 2 (YoloV11 Application))
=======
>>>>>>> origin/sbbungcaras_features
